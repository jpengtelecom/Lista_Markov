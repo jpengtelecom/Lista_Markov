{
  "nbformat": 4,
  "nbformat_minor": 0,
  "metadata": {
    "colab": {
      "provenance": [],
      "authorship_tag": "ABX9TyO2ptgPwn+eG5PUico1ENpy",
      "include_colab_link": true
    },
    "kernelspec": {
      "name": "python3",
      "display_name": "Python 3"
    },
    "language_info": {
      "name": "python"
    }
  },
  "cells": [
    {
      "cell_type": "markdown",
      "metadata": {
        "id": "view-in-github",
        "colab_type": "text"
      },
      "source": [
        "<a href=\"https://colab.research.google.com/github/jpengtelecom/Lista_Markov/blob/main/Exercicio01.ipynb\" target=\"_parent\"><img src=\"https://colab.research.google.com/assets/colab-badge.svg\" alt=\"Open In Colab\"/></a>"
      ]
    },
    {
      "cell_type": "code",
      "execution_count": 6,
      "metadata": {
        "colab": {
          "base_uri": "https://localhost:8080/"
        },
        "id": "T15wSbnH0-Pg",
        "outputId": "920aa1d8-c9cd-4593-be43-a8bf742d95ca"
      },
      "outputs": [
        {
          "output_type": "stream",
          "name": "stdout",
          "text": [
            "Requirement already satisfied: numpy in /usr/local/lib/python3.10/dist-packages (1.25.2)\n",
            "Requirement already satisfied: matplotlib in /usr/local/lib/python3.10/dist-packages (3.7.1)\n",
            "Requirement already satisfied: contourpy>=1.0.1 in /usr/local/lib/python3.10/dist-packages (from matplotlib) (1.2.1)\n",
            "Requirement already satisfied: cycler>=0.10 in /usr/local/lib/python3.10/dist-packages (from matplotlib) (0.12.1)\n",
            "Requirement already satisfied: fonttools>=4.22.0 in /usr/local/lib/python3.10/dist-packages (from matplotlib) (4.51.0)\n",
            "Requirement already satisfied: kiwisolver>=1.0.1 in /usr/local/lib/python3.10/dist-packages (from matplotlib) (1.4.5)\n",
            "Requirement already satisfied: numpy>=1.20 in /usr/local/lib/python3.10/dist-packages (from matplotlib) (1.25.2)\n",
            "Requirement already satisfied: packaging>=20.0 in /usr/local/lib/python3.10/dist-packages (from matplotlib) (24.0)\n",
            "Requirement already satisfied: pillow>=6.2.0 in /usr/local/lib/python3.10/dist-packages (from matplotlib) (9.4.0)\n",
            "Requirement already satisfied: pyparsing>=2.3.1 in /usr/local/lib/python3.10/dist-packages (from matplotlib) (3.1.2)\n",
            "Requirement already satisfied: python-dateutil>=2.7 in /usr/local/lib/python3.10/dist-packages (from matplotlib) (2.8.2)\n",
            "Requirement already satisfied: six>=1.5 in /usr/local/lib/python3.10/dist-packages (from python-dateutil>=2.7->matplotlib) (1.16.0)\n",
            "Requirement already satisfied: scipy in /usr/local/lib/python3.10/dist-packages (1.11.4)\n",
            "Requirement already satisfied: numpy<1.28.0,>=1.21.6 in /usr/local/lib/python3.10/dist-packages (from scipy) (1.25.2)\n",
            "Collecting numpy.linalg\n",
            "  Using cached numpy-linalg-0.1.tar.gz (3.2 kB)\n",
            "  Preparing metadata (setup.py) ... \u001b[?25l\u001b[?25hdone\n",
            "Collecting numpy==1.18.1 (from numpy.linalg)\n",
            "  Using cached numpy-1.18.1.zip (5.4 MB)\n",
            "  Installing build dependencies ... \u001b[?25l\u001b[?25hdone\n",
            "  Getting requirements to build wheel ... \u001b[?25l\u001b[?25hdone\n",
            "  \u001b[1;31merror\u001b[0m: \u001b[1msubprocess-exited-with-error\u001b[0m\n",
            "  \n",
            "  \u001b[31m×\u001b[0m \u001b[32mPreparing metadata \u001b[0m\u001b[1;32m(\u001b[0m\u001b[32mpyproject.toml\u001b[0m\u001b[1;32m)\u001b[0m did not run successfully.\n",
            "  \u001b[31m│\u001b[0m exit code: \u001b[1;36m1\u001b[0m\n",
            "  \u001b[31m╰─>\u001b[0m See above for output.\n",
            "  \n",
            "  \u001b[1;35mnote\u001b[0m: This error originates from a subprocess, and is likely not a problem with pip.\n",
            "  Preparing metadata (pyproject.toml) ... \u001b[?25l\u001b[?25herror\n",
            "\u001b[1;31merror\u001b[0m: \u001b[1mmetadata-generation-failed\u001b[0m\n",
            "\n",
            "\u001b[31m×\u001b[0m Encountered error while generating package metadata.\n",
            "\u001b[31m╰─>\u001b[0m See above for output.\n",
            "\n",
            "\u001b[1;35mnote\u001b[0m: This is an issue with the package mentioned above, not pip.\n",
            "\u001b[1;36mhint\u001b[0m: See above for details.\n"
          ]
        }
      ],
      "source": [
        "!pip install numpy\n",
        "!pip install matplotlib\n",
        "!pip install scipy\n",
        "!pip install numpy.linalg"
      ]
    },
    {
      "cell_type": "code",
      "source": [
        "import numpy as np\n",
        "import matplotlib.pyplot as plt\n",
        "from numpy.linalg import matrix_power\n",
        "\n",
        "n=100000 #numero de simulacoes\n",
        "x0=[0.35,0.65]# vetor de probabilidade inicial\n",
        "probabilidades_transicao =  [\n",
        "    [0, 1/2, 1/2, 0, 0, 0],\n",
        "    [1/2, 0, 0, 1/2, 0, 0],\n",
        "    [1/3, 0, 0, 1/3, 1/3, 0],\n",
        "    [0, 1/3, 1/3, 0, 1/3, 0],\n",
        "    [0, 0, 1/2, 0, 0, 1/2],\n",
        "    [0, 0, 0, 0, 0, 1]\n",
        "] # matriz de transicao de um passo\n",
        "probabilidades_transicao = np.array(probabilidades_transicao)\n",
        "chain2 = np.zeros(n,int) #vetor para armazenar os estados no passo escolhido, passo 0 estado inicial, passo 1 uma transicao, ...\n",
        "passo=3\n",
        "for j in np.arange(0,n,1):\n",
        "\n",
        "    r1 = np.random.uniform(0,1) #geracao de varivel uniforme para escolha do vallor inicial\n",
        "    acumulada = np.cumsum(x0) #gera um vetor [x1,x1+x2,...,1]\n",
        "    valor_inicial = np.argmax(acumulada>r1) #aplica o método de geracao baseado na CDF\n",
        "    chain_length = 20 #numero de transicoes na cadeia, tem que ser maior que o passo escolhido.\n",
        "    chain = np.zeros(chain_length,int) #vetor que vai armazenar todas as transicoes feitas na cadeia\n",
        "    chain[0]=valor_inicial\n",
        "\n",
        "    for i in np.arange(1,chain_length,1):\n",
        "        Linha_atual = probabilidades_transicao[chain[i-1]]#pega a linha referente ao estado atual\n",
        "        acumulada = np.cumsum(Linha_atual)\n",
        "        r = np.random.uniform(0,1)\n",
        "        chain[i] = np.argmax(acumulada>r)#aplica o método de geracao baseado na CDF\n",
        "\n",
        "    chain2[j] =chain[passo]#armazena o estado no passo em chain2\n",
        "\n",
        "#calculo de estatisticas por monte carlo\n",
        "prob1=np.sum(chain2==0)/n\n",
        "prob2=np.sum(chain2==1)/n\n",
        "print(prob1)\n",
        "print(prob2)"
      ],
      "metadata": {
        "colab": {
          "base_uri": "https://localhost:8080/"
        },
        "id": "zB-CNZlb0_e5",
        "outputId": "d6bd0beb-c8a2-4966-97f6-fe61b19e1cec"
      },
      "execution_count": 9,
      "outputs": [
        {
          "output_type": "stream",
          "name": "stdout",
          "text": [
            "0.22536\n",
            "0.12175\n"
          ]
        }
      ]
    }
  ]
}