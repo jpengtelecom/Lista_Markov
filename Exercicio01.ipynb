{
  "nbformat": 4,
  "nbformat_minor": 0,
  "metadata": {
    "colab": {
      "provenance": [],
      "authorship_tag": "ABX9TyO0XLmvNfqAck2y1L8biAmv",
      "include_colab_link": true
    },
    "kernelspec": {
      "name": "python3",
      "display_name": "Python 3"
    },
    "language_info": {
      "name": "python"
    }
  },
  "cells": [
    {
      "cell_type": "markdown",
      "metadata": {
        "id": "view-in-github",
        "colab_type": "text"
      },
      "source": [
        "<a href=\"https://colab.research.google.com/github/jpengtelecom/Lista_Markov/blob/main/Exercicio01.ipynb\" target=\"_parent\"><img src=\"https://colab.research.google.com/assets/colab-badge.svg\" alt=\"Open In Colab\"/></a>"
      ]
    },
    {
      "cell_type": "code",
      "execution_count": 21,
      "metadata": {
        "colab": {
          "base_uri": "https://localhost:8080/"
        },
        "id": "T15wSbnH0-Pg",
        "outputId": "866aa937-4a98-4fb1-e33d-400908bee088"
      },
      "outputs": [
        {
          "output_type": "stream",
          "name": "stdout",
          "text": [
            "Requirement already satisfied: numpy in /usr/local/lib/python3.10/dist-packages (1.25.2)\n",
            "Requirement already satisfied: matplotlib in /usr/local/lib/python3.10/dist-packages (3.7.1)\n",
            "Requirement already satisfied: contourpy>=1.0.1 in /usr/local/lib/python3.10/dist-packages (from matplotlib) (1.2.1)\n",
            "Requirement already satisfied: cycler>=0.10 in /usr/local/lib/python3.10/dist-packages (from matplotlib) (0.12.1)\n",
            "Requirement already satisfied: fonttools>=4.22.0 in /usr/local/lib/python3.10/dist-packages (from matplotlib) (4.51.0)\n",
            "Requirement already satisfied: kiwisolver>=1.0.1 in /usr/local/lib/python3.10/dist-packages (from matplotlib) (1.4.5)\n",
            "Requirement already satisfied: numpy>=1.20 in /usr/local/lib/python3.10/dist-packages (from matplotlib) (1.25.2)\n",
            "Requirement already satisfied: packaging>=20.0 in /usr/local/lib/python3.10/dist-packages (from matplotlib) (24.0)\n",
            "Requirement already satisfied: pillow>=6.2.0 in /usr/local/lib/python3.10/dist-packages (from matplotlib) (9.4.0)\n",
            "Requirement already satisfied: pyparsing>=2.3.1 in /usr/local/lib/python3.10/dist-packages (from matplotlib) (3.1.2)\n",
            "Requirement already satisfied: python-dateutil>=2.7 in /usr/local/lib/python3.10/dist-packages (from matplotlib) (2.8.2)\n",
            "Requirement already satisfied: six>=1.5 in /usr/local/lib/python3.10/dist-packages (from python-dateutil>=2.7->matplotlib) (1.16.0)\n",
            "Requirement already satisfied: scipy in /usr/local/lib/python3.10/dist-packages (1.11.4)\n",
            "Requirement already satisfied: numpy<1.28.0,>=1.21.6 in /usr/local/lib/python3.10/dist-packages (from scipy) (1.25.2)\n",
            "Collecting numpy.linalg\n",
            "  Using cached numpy-linalg-0.1.tar.gz (3.2 kB)\n",
            "  Preparing metadata (setup.py) ... \u001b[?25l\u001b[?25hdone\n",
            "Collecting numpy==1.18.1 (from numpy.linalg)\n",
            "  Using cached numpy-1.18.1.zip (5.4 MB)\n",
            "  Installing build dependencies ... \u001b[?25l\u001b[?25hdone\n",
            "  Getting requirements to build wheel ... \u001b[?25l\u001b[?25hdone\n",
            "  \u001b[1;31merror\u001b[0m: \u001b[1msubprocess-exited-with-error\u001b[0m\n",
            "  \n",
            "  \u001b[31m×\u001b[0m \u001b[32mPreparing metadata \u001b[0m\u001b[1;32m(\u001b[0m\u001b[32mpyproject.toml\u001b[0m\u001b[1;32m)\u001b[0m did not run successfully.\n",
            "  \u001b[31m│\u001b[0m exit code: \u001b[1;36m1\u001b[0m\n",
            "  \u001b[31m╰─>\u001b[0m See above for output.\n",
            "  \n",
            "  \u001b[1;35mnote\u001b[0m: This error originates from a subprocess, and is likely not a problem with pip.\n",
            "  Preparing metadata (pyproject.toml) ... \u001b[?25l\u001b[?25herror\n",
            "\u001b[1;31merror\u001b[0m: \u001b[1mmetadata-generation-failed\u001b[0m\n",
            "\n",
            "\u001b[31m×\u001b[0m Encountered error while generating package metadata.\n",
            "\u001b[31m╰─>\u001b[0m See above for output.\n",
            "\n",
            "\u001b[1;35mnote\u001b[0m: This is an issue with the package mentioned above, not pip.\n",
            "\u001b[1;36mhint\u001b[0m: See above for details.\n"
          ]
        }
      ],
      "source": [
        "!pip install numpy\n",
        "!pip install matplotlib\n",
        "!pip install scipy\n",
        "!pip install numpy.linalg"
      ]
    },
    {
      "cell_type": "code",
      "source": [
        "import numpy as np\n",
        "import matplotlib.pyplot as plt\n",
        "from numpy.linalg import matrix_power\n",
        "\n",
        "matriz_transicao = [\n",
        "    [0, 1/2, 1/2, 0, 0, 0],\n",
        "    [1/2, 0, 0, 1/2, 0, 0],\n",
        "    [1/3, 0, 0, 1/3, 1/3, 0],\n",
        "    [0, 1/3, 1/3, 0, 1/3, 0],\n",
        "    [0, 0, 1/2, 0, 0, 1/2],\n",
        "    [0, 0, 0, 0, 0, 1]\n",
        "]\n",
        "\n",
        "\n",
        "matriz_transicao_1_passo = np.array(matriz_transicao)\n",
        "\n",
        "print(\"A matriz de transição de 1 passo:\", np.array(matriz_transicao_1_passo))\n",
        "\n",
        "probabilidade_morte = np.linalg.matrix_power(matriz_transicao_1_passo, 3)\n",
        "print(\"Elevando a matriz de transição de 1 passo à terceira potência :\", np.array(probabilidade_morte))\n",
        "probabilidade_morte = probabilidade_morte[0][5]\n",
        "\n",
        "print(\"Probabilidade do rato morrer após 3 horas:\", probabilidade_morte)\n",
        "\n",
        "\n"
      ],
      "metadata": {
        "colab": {
          "base_uri": "https://localhost:8080/"
        },
        "id": "zB-CNZlb0_e5",
        "outputId": "950dd064-9d17-4510-e23b-b87ee7c2c953"
      },
      "execution_count": 22,
      "outputs": [
        {
          "output_type": "stream",
          "name": "stdout",
          "text": [
            "A matriz de transição de 1 passo: [[0.         0.5        0.5        0.         0.         0.        ]\n",
            " [0.5        0.         0.         0.5        0.         0.        ]\n",
            " [0.33333333 0.         0.         0.33333333 0.33333333 0.        ]\n",
            " [0.         0.33333333 0.33333333 0.         0.33333333 0.        ]\n",
            " [0.         0.         0.5        0.         0.         0.5       ]\n",
            " [0.         0.         0.         0.         0.         1.        ]]\n",
            "Elevando a matriz de transição de 1 passo à terceira potência : [[0.         0.34722222 0.43055556 0.         0.13888889 0.08333333]\n",
            " [0.34722222 0.         0.08333333 0.34722222 0.13888889 0.08333333]\n",
            " [0.28703704 0.         0.05555556 0.28703704 0.14814815 0.22222222]\n",
            " [0.05555556 0.23148148 0.28703704 0.05555556 0.14814815 0.22222222]\n",
            " [0.         0.13888889 0.22222222 0.         0.05555556 0.58333333]\n",
            " [0.         0.         0.         0.         0.         1.        ]]\n",
            "Probabilidade do rato morrer após 3 horas: 0.08333333333333333\n"
          ]
        }
      ]
    }
  ]
}